{
  "nbformat": 4,
  "nbformat_minor": 0,
  "metadata": {
    "colab": {
      "name": "Untitled6.ipynb",
      "provenance": []
    },
    "kernelspec": {
      "name": "python3",
      "display_name": "Python 3"
    },
    "language_info": {
      "name": "python"
    }
  },
  "cells": [
    {
      "cell_type": "code",
      "source": [
        "\n",
        "from nltk.corpus import stopwords\n",
        "stop_words = stopwords.words('english')\n",
        "\n",
        "in_file = file(r\"C:\\Users\\wesam\\OneDrive\\سطح المكتب\\مشروع التخرج\\project\\Documents\\google-books-common-words.txt\", 'r')\n",
        "common_words_file = file(r\"C:\\Users\\wesam\\OneDrive\\سطح المكتب\\مشروع التخرج\\project\\Documents\\common-words.txt\", 'w')\n",
        "uncommon_words_file = file(r\"C:\\Users\\wesam\\OneDrive\\سطح المكتب\\مشروع التخرج\\project\\Documentsuncommon-words.txt\", 'w')\n",
        "\n",
        "\n",
        "total = 0\n",
        "counter = 0\n",
        "for line in in_file:\n",
        "    if not line.split()[0].lower() in stop_words:\n",
        "        total += float(line.split()[1])\n",
        "        counter += 1\n",
        "in_file.close()\n",
        "avg = total / float(counter)\n",
        "\n",
        "for line in in_file:\n",
        "    if not line.split()[0].lower() in stop_words:\n",
        "        if float(line.split()[1]) >= avg:\n",
        "            common_words_file.write(line)\n",
        "        else:\n",
        "            uncommon_words_file.write(line)\n",
        "common_words_file.close()\n",
        "uncommon_words_file.close()\n",
        "in_file.close()\n",
        "\n"
      ],
      "metadata": {
        "id": "Xt_ocHmohG7b"
      },
      "execution_count": null,
      "outputs": []
    },
    {
      "cell_type": "code",
      "source": [
        ""
      ],
      "metadata": {
        "id": "BxbGogwcg5RG"
      },
      "execution_count": null,
      "outputs": []
    },
    {
      "cell_type": "code",
      "source": [
        ""
      ],
      "metadata": {
        "id": "3JbqADkrgcet"
      },
      "execution_count": null,
      "outputs": []
    }
  ]
}